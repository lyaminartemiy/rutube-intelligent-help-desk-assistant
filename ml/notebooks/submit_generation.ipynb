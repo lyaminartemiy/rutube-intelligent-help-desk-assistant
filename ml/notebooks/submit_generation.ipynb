{
 "cells": [
  {
   "cell_type": "markdown",
   "metadata": {},
   "source": [
    "## Submit Generation for Evaluation Pipeline"
   ]
  },
  {
   "cell_type": "code",
   "execution_count": 2,
   "metadata": {},
   "outputs": [],
   "source": [
    "import pandas as pd\n",
    "\n",
    "\n",
    "submit = pd.read_csv(\"submit.csv\")\n",
    "questions = pd.read_csv(\"question_for_validate.csv\")"
   ]
  },
  {
   "cell_type": "code",
   "execution_count": 3,
   "metadata": {},
   "outputs": [],
   "source": [
    "import requests\n",
    "import json\n",
    "\n",
    "url = \"http://localhost:8001/predict\"\n",
    "\n",
    "submit_data = []\n",
    "for _, row in questions.iterrows():\n",
    "    question = row[\"Вопрос пользователя\"]\n",
    "    json_model = {\"question\": question}\n",
    "    response = requests.post(url=url, json=json_model)\n",
    "    response_json = json.loads(response.text)\n",
    "    submit_data.append([\n",
    "        question,\n",
    "        response_json[\"answer\"],\n",
    "        response_json[\"class_1\"],\n",
    "        response_json[\"class_2\"],\n",
    "        response_json[\"vector_database_result\"],\n",
    "        response_json[\"reranker_result\"]\n",
    "    ])\n"
   ]
  },
  {
   "cell_type": "code",
   "execution_count": 4,
   "metadata": {},
   "outputs": [
    {
     "data": {
      "text/plain": [
       "801"
      ]
     },
     "execution_count": 4,
     "metadata": {},
     "output_type": "execute_result"
    }
   ],
   "source": [
    "len(submit_data)"
   ]
  },
  {
   "cell_type": "code",
   "execution_count": 5,
   "metadata": {},
   "outputs": [],
   "source": [
    "submit = pd.DataFrame(submit_data, columns=[\"question\", \"answer\", \"class_1\", \"class_2\", \"vector_database_result\", \"reranker_result\"])\n",
    "submit.to_csv(\"emb_openai_512-llm_question-chroma_question_10-reranker_question_3-llm_openai_full.csv\", index=False)"
   ]
  },
  {
   "cell_type": "code",
   "execution_count": 6,
   "metadata": {},
   "outputs": [
    {
     "data": {
      "text/plain": [
       "УПРАВЛЕНИЕ АККАУНТОМ                  202\n",
       "ВИДЕО                                 154\n",
       "ПРЕДЛОЖЕНИЯ                           104\n",
       "ТРАНСЛЯЦИЯ                             95\n",
       "МОНЕТИЗАЦИЯ                            90\n",
       "МОДЕРАЦИЯ                              83\n",
       "ДОСТУП К RUTUBE                        28\n",
       "ОТСУТСТВУЕТ                            24\n",
       "ПОИСК                                   8\n",
       "БЛАГОТВОРИТЕЛЬНОСТЬ ДОНАТЫ              8\n",
       "СОТРУДНИЧЕСТВО ПРОДВИЖЕНИЕ РЕКЛАМА      5\n",
       "Name: class_1, dtype: int64"
      ]
     },
     "execution_count": 6,
     "metadata": {},
     "output_type": "execute_result"
    }
   ],
   "source": [
    "submit[\"class_1\"].value_counts()"
   ]
  },
  {
   "cell_type": "code",
   "execution_count": 31,
   "metadata": {},
   "outputs": [
    {
     "name": "stdout",
     "output_type": "stream",
     "text": [
      "Все пишут, что монетизация на рутубе отключается сама собой, у меня тоже так будет?\n"
     ]
    }
   ],
   "source": [
    "print(questions.iloc[2][0])"
   ]
  }
 ],
 "metadata": {
  "kernelspec": {
   "display_name": "ad_lyamin_dags",
   "language": "python",
   "name": "ad_lyamin_dags"
  },
  "language_info": {
   "codemirror_mode": {
    "name": "ipython",
    "version": 3
   },
   "file_extension": ".py",
   "mimetype": "text/x-python",
   "name": "python",
   "nbconvert_exporter": "python",
   "pygments_lexer": "ipython3",
   "version": "3.8.19"
  },
  "orig_nbformat": 4
 },
 "nbformat": 4,
 "nbformat_minor": 2
}
